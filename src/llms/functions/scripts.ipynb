{
 "cells": [
  {
   "cell_type": "markdown",
   "id": "8b7dbe9b",
   "metadata": {},
   "source": [
    "# API Scripts Playground"
   ]
  },
  {
   "cell_type": "markdown",
   "id": "fbb47320",
   "metadata": {},
   "source": [
    "## Preprocessing website data"
   ]
  },
  {
   "cell_type": "code",
   "execution_count": 3,
   "id": "bf20de9e",
   "metadata": {},
   "outputs": [
    {
     "ename": "ReferenceError",
     "evalue": "require is not defined",
     "output_type": "error",
     "traceback": [
      "Stack trace:",
      "ReferenceError: require is not defined",
      "    at <anonymous>:1:22"
     ]
    }
   ],
   "source": [
    "require('dotenv').config();"
   ]
  }
 ],
 "metadata": {
  "kernelspec": {
   "display_name": "Deno",
   "language": "typescript",
   "name": "deno"
  },
  "language_info": {
   "codemirror_mode": "typescript",
   "file_extension": ".ts",
   "mimetype": "text/x.typescript",
   "name": "typescript",
   "nbconvert_exporter": "script",
   "pygments_lexer": "typescript",
   "version": "5.5.2"
  }
 },
 "nbformat": 4,
 "nbformat_minor": 5
}
